{
 "cells": [
  {
   "cell_type": "code",
   "execution_count": 1,
   "id": "initial_id",
   "metadata": {
    "collapsed": true,
    "ExecuteTime": {
     "end_time": "2024-04-04T00:08:05.989520Z",
     "start_time": "2024-04-04T00:08:01.942288Z"
    }
   },
   "outputs": [
    {
     "name": "stdout",
     "output_type": "stream",
     "text": [
      "Using device: mps\n"
     ]
    },
    {
     "ename": "AttributeError",
     "evalue": "module 'torch.nn' has no attribute 'groupnorm'",
     "output_type": "error",
     "traceback": [
      "\u001B[0;31m---------------------------------------------------------------------------\u001B[0m",
      "\u001B[0;31mAttributeError\u001B[0m                            Traceback (most recent call last)",
      "Cell \u001B[0;32mIn[1], line 22\u001B[0m\n\u001B[1;32m     20\u001B[0m tokenizer \u001B[38;5;241m=\u001B[39m CLIPTokenizer(\u001B[38;5;124m\"\u001B[39m\u001B[38;5;124m../data/tokenizer_vocab.json\u001B[39m\u001B[38;5;124m\"\u001B[39m, merges_file\u001B[38;5;241m=\u001B[39m\u001B[38;5;124m\"\u001B[39m\u001B[38;5;124m../data/tokenizer_merges.txt\u001B[39m\u001B[38;5;124m\"\u001B[39m)\n\u001B[1;32m     21\u001B[0m model_file \u001B[38;5;241m=\u001B[39m \u001B[38;5;124m\"\u001B[39m\u001B[38;5;124m../data/v1-5-pruned-emaonly.ckpt\u001B[39m\u001B[38;5;124m\"\u001B[39m\n\u001B[0;32m---> 22\u001B[0m models \u001B[38;5;241m=\u001B[39m \u001B[43mmodel_loader\u001B[49m\u001B[38;5;241;43m.\u001B[39;49m\u001B[43mpreload_models_from_standard_weights\u001B[49m\u001B[43m(\u001B[49m\u001B[43mmodel_file\u001B[49m\u001B[43m,\u001B[49m\u001B[43m \u001B[49m\u001B[43mDEVICE\u001B[49m\u001B[43m)\u001B[49m\n\u001B[1;32m     24\u001B[0m prompt \u001B[38;5;241m=\u001B[39m \u001B[38;5;124m\"\u001B[39m\u001B[38;5;124mA black labrador stretching on the floor, highly detailed, ultra sharp, cinematic, 8k resolution\u001B[39m\u001B[38;5;124m\"\u001B[39m\n\u001B[1;32m     25\u001B[0m uncond_prompt \u001B[38;5;241m=\u001B[39m \u001B[38;5;124m\"\u001B[39m\u001B[38;5;124m\"\u001B[39m \u001B[38;5;66;03m# You can use it as a negative prompt\u001B[39;00m\n",
      "File \u001B[0;32m~/CodeStuff/Classes/csds491/Stable-Diffusion/sd/model_loader.py:34\u001B[0m, in \u001B[0;36mpreload_models_from_standard_weights\u001B[0;34m(ckpt_path, device)\u001B[0m\n\u001B[1;32m     31\u001B[0m encoder_state_dict \u001B[38;5;241m=\u001B[39m fix_state_dict(state_dict[\u001B[38;5;124m\"\u001B[39m\u001B[38;5;124mencoder\u001B[39m\u001B[38;5;124m\"\u001B[39m])\n\u001B[1;32m     32\u001B[0m encoder\u001B[38;5;241m.\u001B[39mload_state_dict(encoder_state_dict, strict\u001B[38;5;241m=\u001B[39m\u001B[38;5;28;01mTrue\u001B[39;00m)\n\u001B[0;32m---> 34\u001B[0m decoder \u001B[38;5;241m=\u001B[39m \u001B[43mVAE_Decoder\u001B[49m\u001B[43m(\u001B[49m\u001B[43m)\u001B[49m\u001B[38;5;241m.\u001B[39mto(device)\n\u001B[1;32m     35\u001B[0m decoder_state_dict \u001B[38;5;241m=\u001B[39m fix_state_dict(state_dict[\u001B[38;5;124m\"\u001B[39m\u001B[38;5;124mdecoder\u001B[39m\u001B[38;5;124m\"\u001B[39m])\n\u001B[1;32m     36\u001B[0m decoder\u001B[38;5;241m.\u001B[39mload_state_dict(decoder_state_dict, strict\u001B[38;5;241m=\u001B[39m\u001B[38;5;28;01mTrue\u001B[39;00m)\n",
      "File \u001B[0;32m~/CodeStuff/Classes/csds491/Stable-Diffusion/sd/decoder.py:101\u001B[0m, in \u001B[0;36mVAE_Decoder.__init__\u001B[0;34m(self)\u001B[0m\n\u001B[1;32m     63\u001B[0m \u001B[38;5;28;01mdef\u001B[39;00m \u001B[38;5;21m__init__\u001B[39m(\u001B[38;5;28mself\u001B[39m):\n\u001B[1;32m     64\u001B[0m     \u001B[38;5;28msuper\u001B[39m()\u001B[38;5;241m.\u001B[39m\u001B[38;5;21m__init__\u001B[39m(\n\u001B[1;32m     65\u001B[0m         nn\u001B[38;5;241m.\u001B[39mConv2d(\u001B[38;5;241m4\u001B[39m, \u001B[38;5;241m4\u001B[39m, kernel_size\u001B[38;5;241m=\u001B[39m\u001B[38;5;241m1\u001B[39m, padding\u001B[38;5;241m=\u001B[39m\u001B[38;5;241m0\u001B[39m),\n\u001B[1;32m     66\u001B[0m         nn\u001B[38;5;241m.\u001B[39mConv2d(\u001B[38;5;241m4\u001B[39m, \u001B[38;5;241m512\u001B[39m, kernel_size\u001B[38;5;241m=\u001B[39m\u001B[38;5;241m3\u001B[39m, padding\u001B[38;5;241m=\u001B[39m\u001B[38;5;241m1\u001B[39m),\n\u001B[1;32m     67\u001B[0m \n\u001B[1;32m     68\u001B[0m         VAE_ResidualBlock(\u001B[38;5;241m512\u001B[39m, \u001B[38;5;241m512\u001B[39m),\n\u001B[1;32m     69\u001B[0m \n\u001B[1;32m     70\u001B[0m         VAE_AttentionBlock(\u001B[38;5;241m512\u001B[39m),\n\u001B[1;32m     71\u001B[0m \n\u001B[1;32m     72\u001B[0m         VAE_ResidualBlock(\u001B[38;5;241m512\u001B[39m, \u001B[38;5;241m512\u001B[39m),\n\u001B[1;32m     73\u001B[0m         VAE_ResidualBlock(\u001B[38;5;241m512\u001B[39m, \u001B[38;5;241m512\u001B[39m),\n\u001B[1;32m     74\u001B[0m         VAE_ResidualBlock(\u001B[38;5;241m512\u001B[39m, \u001B[38;5;241m512\u001B[39m),\n\u001B[1;32m     75\u001B[0m \n\u001B[1;32m     76\u001B[0m         VAE_ResidualBlock(\u001B[38;5;241m512\u001B[39m, \u001B[38;5;241m512\u001B[39m),\n\u001B[1;32m     77\u001B[0m \n\u001B[1;32m     78\u001B[0m         nn\u001B[38;5;241m.\u001B[39mUpsample(scale_factor\u001B[38;5;241m=\u001B[39m\u001B[38;5;241m2\u001B[39m),\n\u001B[1;32m     79\u001B[0m \n\u001B[1;32m     80\u001B[0m         nn\u001B[38;5;241m.\u001B[39mConv2d(\u001B[38;5;241m512\u001B[39m, \u001B[38;5;241m512\u001B[39m, kernel_size\u001B[38;5;241m=\u001B[39m\u001B[38;5;241m3\u001B[39m, padding\u001B[38;5;241m=\u001B[39m\u001B[38;5;241m1\u001B[39m),\n\u001B[1;32m     81\u001B[0m \n\u001B[1;32m     82\u001B[0m         VAE_ResidualBlock(\u001B[38;5;241m512\u001B[39m, \u001B[38;5;241m512\u001B[39m),\n\u001B[1;32m     83\u001B[0m         VAE_ResidualBlock(\u001B[38;5;241m512\u001B[39m, \u001B[38;5;241m512\u001B[39m),\n\u001B[1;32m     84\u001B[0m         VAE_ResidualBlock(\u001B[38;5;241m512\u001B[39m, \u001B[38;5;241m512\u001B[39m),\n\u001B[1;32m     85\u001B[0m \n\u001B[1;32m     86\u001B[0m         nn\u001B[38;5;241m.\u001B[39mUpsample(scale_factor\u001B[38;5;241m=\u001B[39m\u001B[38;5;241m2\u001B[39m),\n\u001B[1;32m     87\u001B[0m \n\u001B[1;32m     88\u001B[0m         nn\u001B[38;5;241m.\u001B[39mConv2d(\u001B[38;5;241m512\u001B[39m, \u001B[38;5;241m512\u001B[39m, kernel_size\u001B[38;5;241m=\u001B[39m\u001B[38;5;241m3\u001B[39m, padding\u001B[38;5;241m=\u001B[39m\u001B[38;5;241m1\u001B[39m),\n\u001B[1;32m     89\u001B[0m \n\u001B[1;32m     90\u001B[0m         VAE_ResidualBlock(\u001B[38;5;241m512\u001B[39m, \u001B[38;5;241m256\u001B[39m),\n\u001B[1;32m     91\u001B[0m         VAE_ResidualBlock(\u001B[38;5;241m256\u001B[39m, \u001B[38;5;241m256\u001B[39m),\n\u001B[1;32m     92\u001B[0m         VAE_ResidualBlock(\u001B[38;5;241m256\u001B[39m, \u001B[38;5;241m256\u001B[39m),\n\u001B[1;32m     93\u001B[0m \n\u001B[1;32m     94\u001B[0m         nn\u001B[38;5;241m.\u001B[39mUpsample(scale_factor\u001B[38;5;241m=\u001B[39m\u001B[38;5;241m2\u001B[39m),\n\u001B[1;32m     95\u001B[0m         nn\u001B[38;5;241m.\u001B[39mConv2d(\u001B[38;5;241m256\u001B[39m, \u001B[38;5;241m256\u001B[39m, kernel_size\u001B[38;5;241m=\u001B[39m\u001B[38;5;241m3\u001B[39m, padding\u001B[38;5;241m=\u001B[39m\u001B[38;5;241m1\u001B[39m),\n\u001B[1;32m     96\u001B[0m \n\u001B[1;32m     97\u001B[0m         VAE_ResidualBlock(\u001B[38;5;241m256\u001B[39m, \u001B[38;5;241m128\u001B[39m),\n\u001B[1;32m     98\u001B[0m         VAE_ResidualBlock(\u001B[38;5;241m128\u001B[39m, \u001B[38;5;241m128\u001B[39m),\n\u001B[1;32m     99\u001B[0m         VAE_ResidualBlock(\u001B[38;5;241m128\u001B[39m, \u001B[38;5;241m128\u001B[39m),\n\u001B[1;32m    100\u001B[0m \n\u001B[0;32m--> 101\u001B[0m         \u001B[43mnn\u001B[49m\u001B[38;5;241;43m.\u001B[39;49m\u001B[43mgroupnorm\u001B[49m(\u001B[38;5;241m32\u001B[39m, \u001B[38;5;241m128\u001B[39m),\n\u001B[1;32m    102\u001B[0m \n\u001B[1;32m    103\u001B[0m         nn\u001B[38;5;241m.\u001B[39mSiLU(),\n\u001B[1;32m    104\u001B[0m \n\u001B[1;32m    105\u001B[0m         nn\u001B[38;5;241m.\u001B[39mConv2d(\u001B[38;5;241m128\u001B[39m, \u001B[38;5;241m3\u001B[39m, kernel_size\u001B[38;5;241m=\u001B[39m\u001B[38;5;241m3\u001B[39m, padding\u001B[38;5;241m=\u001B[39m\u001B[38;5;241m1\u001B[39m),\n\u001B[1;32m    106\u001B[0m     )\n",
      "\u001B[0;31mAttributeError\u001B[0m: module 'torch.nn' has no attribute 'groupnorm'"
     ]
    }
   ],
   "source": [
    "import model_loader\n",
    "import pipeline\n",
    "from PIL import Image\n",
    "from transformers import CLIPTokenizer\n",
    "import torch\n",
    "\n",
    "DEVICE = \"cpu\"\n",
    "\n",
    "ALLOW_CUDA = False\n",
    "ALLOW_MPS = True\n",
    "\n",
    "if torch.cuda.is_available() and ALLOW_CUDA:\n",
    "    DEVICE = \"cuda\"\n",
    "\n",
    "if torch.backends.mps.is_available() and ALLOW_MPS:\n",
    "    DEVICE = \"mps\"\n",
    "    \n",
    "print(f\"Using device: {DEVICE}\")\n",
    "\n",
    "tokenizer = CLIPTokenizer(\"../data/tokenizer_vocab.json\", merges_file=\"../data/tokenizer_merges.txt\")\n",
    "model_file = \"../data/v1-5-pruned-emaonly.ckpt\"\n",
    "models = model_loader.preload_models_from_standard_weights(model_file, DEVICE)\n",
    "\n",
    "prompt = \"A black labrador stretching on the floor, highly detailed, ultra sharp, cinematic, 8k resolution\"\n",
    "uncond_prompt = \"\" # You can use it as a negative prompt\n",
    "do_cfg = True\n",
    "cfg_scale = 7\n",
    "\n",
    "input_image = None\n",
    "image_path = \"../images/dog.jpg\"\n",
    "strength = 0.9\n",
    "\n",
    "sampler = \"ddpm\"\n",
    "num_inference_steps = 50\n",
    "seed = 42\n",
    "\n",
    "output_image = pipeline.generate_image(\n",
    "    prompt = prompt,\n",
    "    uncond_prompt = uncond_prompt,\n",
    "    input_image = input_image,\n",
    "    strength = strength,\n",
    "    do_cfg = do_cfg,\n",
    "    cfg_scale = cfg_scale,\n",
    "    sampler_name = sampler,\n",
    "    num_inference_steps = num_inference_steps,\n",
    "    seed = seed,\n",
    "    models = models,\n",
    "    device = DEVICE,\n",
    "    idle_device = \"cpu\",\n",
    "    tokenizer = tokenizer,\n",
    ")\n",
    "\n",
    "Image.fromarray(output_image)"
   ]
  },
  {
   "cell_type": "code",
   "execution_count": null,
   "outputs": [],
   "source": [],
   "metadata": {
    "collapsed": false,
    "ExecuteTime": {
     "end_time": "2024-04-04T00:08:05.990605Z",
     "start_time": "2024-04-04T00:08:05.990178Z"
    }
   },
   "id": "1d99f182e2bc8a27"
  }
 ],
 "metadata": {
  "kernelspec": {
   "display_name": "Python 3",
   "language": "python",
   "name": "python3"
  },
  "language_info": {
   "codemirror_mode": {
    "name": "ipython",
    "version": 2
   },
   "file_extension": ".py",
   "mimetype": "text/x-python",
   "name": "python",
   "nbconvert_exporter": "python",
   "pygments_lexer": "ipython2",
   "version": "2.7.6"
  }
 },
 "nbformat": 4,
 "nbformat_minor": 5
}
